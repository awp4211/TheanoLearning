{
 "cells": [
  {
   "cell_type": "code",
   "execution_count": 2,
   "metadata": {
    "collapsed": false
   },
   "outputs": [
    {
     "name": "stdout",
     "output_type": "stream",
     "text": [
      "[1, 2, 3]\n",
      "{4: 5, 6: 7}\n"
     ]
    }
   ],
   "source": [
    "#cPickle保存参数\n",
    "import cPickle\n",
    "a = [1,2,3]\n",
    "b = {4:5,6:7}\n",
    "f = open('/home/zc/Desktop/code/cPickleTest','wb')\n",
    "#dump中的-1表示使用highest protocol\n",
    "cPickle.dump(a,f,-1)\n",
    "cPickle.dump(b,f,-1)\n",
    "f.close()\n",
    "\n",
    "read_file = open('/home/zc/Desktop/code/cPickleTest','rb')\n",
    "aa = cPickle.load(read_file)\n",
    "bb = cPickle.load(read_file)\n",
    "print a\n",
    "print b\n",
    "read_file.close()"
   ]
  },
  {
   "cell_type": "code",
   "execution_count": null,
   "metadata": {
    "collapsed": true
   },
   "outputs": [],
   "source": []
  }
 ],
 "metadata": {
  "kernelspec": {
   "display_name": "Python 2",
   "language": "python",
   "name": "python2"
  },
  "language_info": {
   "codemirror_mode": {
    "name": "ipython",
    "version": 2
   },
   "file_extension": ".py",
   "mimetype": "text/x-python",
   "name": "python",
   "nbconvert_exporter": "python",
   "pygments_lexer": "ipython2",
   "version": "2.7.6"
  }
 },
 "nbformat": 4,
 "nbformat_minor": 1
}
